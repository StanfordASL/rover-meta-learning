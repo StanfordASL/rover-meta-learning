{
 "metadata": {
  "language_info": {
   "codemirror_mode": {
    "name": "ipython",
    "version": 3
   },
   "file_extension": ".py",
   "mimetype": "text/x-python",
   "name": "python",
   "nbconvert_exporter": "python",
   "pygments_lexer": "ipython3",
   "version": "3.7.4-final"
  },
  "orig_nbformat": 2,
  "kernelspec": {
   "name": "python37464bitbasecondaf44f5e84af3449ff9326d2c10989fe31",
   "display_name": "Python 3.7.4 64-bit ('base': conda)",
   "metadata": {
    "interpreter": {
     "hash": "0cfadb47b4ecd62497a37db3deab7a5ff0582b8d07be7be1a5fd883c4872829b"
    }
   }
  }
 },
 "nbformat": 4,
 "nbformat_minor": 2,
 "cells": [
  {
   "cell_type": "markdown",
   "metadata": {},
   "source": [
    "# Train an ALPaCA dynamics model\n",
    "\n",
    "Trains and saves an ALPaCA dynamics model on Rocker-bogie dynamics"
   ]
  },
  {
   "cell_type": "code",
   "execution_count": 1,
   "metadata": {},
   "outputs": [],
   "source": [
    "import sys\n",
    "sys.path.append('../')"
   ]
  },
  {
   "cell_type": "code",
   "execution_count": 2,
   "metadata": {
    "tags": []
   },
   "outputs": [],
   "source": [
    "%load_ext autoreload\n",
    "%autoreload 2\n",
    "\n",
    "import os\n",
    "import numpy as np\n",
    "import torch\n",
    "import matplotlib.pyplot as plt\n",
    "\n",
    "# import dynamics (can replace with a different env if desired)\n",
    "from src.envs.rocker_bogie_with_terrain_simplified import RockerBogieDynamics as Dynamics\n",
    "from src.envs.rocker_bogie_with_terrain_simplified import state_space, action_space\n",
    "\n",
    "# import dataloading tools\n",
    "from src.models.dataset import TorchDatasetWrapper, DynamicsRandomDataset\n",
    "from torch.utils.data import DataLoader\n",
    "\n",
    "# import modeling tools\n",
    "from src.models import Alpaca, AlpacaDynamics"
   ]
  },
  {
   "cell_type": "markdown",
   "metadata": {},
   "source": [
    "### Define where to save the model"
   ]
  },
  {
   "cell_type": "code",
   "execution_count": 3,
   "metadata": {},
   "outputs": [],
   "source": [
    "MODEL_PATH = \"trained_models/rocker_bogie_alp_ortho\"\n"
   ]
  },
  {
   "cell_type": "markdown",
   "metadata": {},
   "source": [
    "Initialize dynamics to train on"
   ]
  },
  {
   "cell_type": "code",
   "execution_count": 4,
   "metadata": {
    "tags": []
   },
   "outputs": [
    {
     "output_type": "stream",
     "name": "stdout",
     "text": "c rand\nphi rand\n"
    }
   ],
   "source": [
    "dynamics = Dynamics()"
   ]
  },
  {
   "cell_type": "markdown",
   "metadata": {},
   "source": [
    "Initialize nominal model"
   ]
  },
  {
   "cell_type": "code",
   "execution_count": 5,
   "metadata": {},
   "outputs": [],
   "source": [
    "# These params shouldn't change\n",
    "# Loose Sand parameters\n",
    "n = 1.1; k_c = 0.9e3; k_phi = 1523.4e3; k = 0.025; c1 = 0.18; c2 = 0.32 \n",
    "# compact sand\n",
    "# n = 0.47; k_c = 0.9e3; k_phi = 1523.4e3; k = 0.038; c1 = 0.43; c2 = 0.32\n",
    "\n",
    "c_placeholder = 0.9e3 \n",
    "phi_placeholder = np.deg2rad(30) \n",
    "terr_params = [c_placeholder, phi_placeholder, n, k, k_c, k_phi, n, c1, c2] \n",
    "dt = 0.1"
   ]
  },
  {
   "cell_type": "code",
   "execution_count": 6,
   "metadata": {},
   "outputs": [],
   "source": [
    "config = {\n",
    "    'x_dim': dynamics.ob_dim,\n",
    "    'u_dim': action_space.dimension,\n",
    "    'learning_rate': 5e-5,\n",
    "    'sigma_eps': [1e-2]*dynamics.ob_dim,\n",
    "    'data_horizon': 40,\n",
    "    'max_context': 10,\n",
    "    'multistep_training': False,\n",
    "    'learning_rate_decay': False,\n",
    "    'phi_dim': 64,\n",
    "    'learnable_noise':True,\n",
    "    'enforce_feature_orthogonality':True,\n",
    "    'bound_params':True,\n",
    "    'ortho_weight':3.333e-4\n",
    "}\n",
    "# NOTE added field to config to enforce feature orthogonality through added loss\n",
    "\n",
    "fnom = lambda x,u: dynamics.rover.get_fnom_function_vel_only(x, u, terr_params, dt)\n",
    "phi_nom_fn=lambda x,u: dynamics.rover.get_c_tanphi_features_matrix_vel_only(x,u, terr_params, dt)\n",
    "model = Alpaca(config, phi_nom_fn=phi_nom_fn, num_aug_features=2)\n",
    "dynmodel = AlpacaDynamics(model, f_nom=fnom)\n"
   ]
  },
  {
   "cell_type": "code",
   "execution_count": 7,
   "metadata": {},
   "outputs": [],
   "source": [
    "dataset = TorchDatasetWrapper(DynamicsRandomDataset(dynamics, state_space, action_space))\n",
    "dataloader = DataLoader(dataset, batch_size=20)"
   ]
  },
  {
   "cell_type": "markdown",
   "metadata": {},
   "source": [
    "Training progress is logged in the directory `runs` for visualization in Tensorboard"
   ]
  },
  {
   "cell_type": "code",
   "execution_count": 8,
   "metadata": {
    "tags": []
   },
   "outputs": [
    {
     "output_type": "stream",
     "name": "stderr",
     "text": "  0%|          | 0/3 [00:00<?, ?it/s]\nOther loss =  27.035995  Ortho loss weighted= 0.024723351 Bounds loss weighted= 18.536575\n 67%|██████▋   | 2/3 [00:01<00:00,  1.07it/s, tr_loss=42.83869]\nOther loss =  24.29186  Ortho loss weighted= 0.024660101 Bounds loss weighted= 18.522171\n100%|██████████| 3/3 [00:02<00:00,  1.09it/s, tr_loss=41.775303]\nOther loss =  23.245369  Ortho loss weighted= 0.024798298 Bounds loss weighted= 18.505136\n\n"
    }
   ],
   "source": [
    "dynmodel.train(dataloader, 3, val_dataloader=None, verbose=True)\n",
    "# dynmodel.train(dataloader, 3000, val_dataloader=None, verbose=True)"
   ]
  },
  {
   "cell_type": "code",
   "execution_count": 9,
   "metadata": {},
   "outputs": [],
   "source": [
    "dynmodel.save(MODEL_PATH)"
   ]
  },
  {
   "cell_type": "code",
   "execution_count": null,
   "metadata": {},
   "outputs": [],
   "source": []
  }
 ]
}