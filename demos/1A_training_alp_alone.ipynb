{
 "cells": [
  {
   "cell_type": "markdown",
   "metadata": {},
   "source": [
    "# Train an ALPaCA dynamics model\n",
    "\n",
    "Trains and saves an ALPaCA dynamics model on Rocker-bogie dynamics"
   ]
  },
  {
   "cell_type": "code",
   "execution_count": 1,
   "metadata": {},
   "outputs": [],
   "source": [
    "import sys\n",
    "sys.path.append('../')"
   ]
  },
  {
   "cell_type": "code",
   "execution_count": 2,
   "metadata": {
    "tags": []
   },
   "outputs": [],
   "source": [
    "%load_ext autoreload\n",
    "%autoreload 2\n",
    "\n",
    "import os\n",
    "import numpy as np\n",
    "import matplotlib.pyplot as plt\n",
    "\n",
    "# import dynamics (can replace with a different env if desired)\n",
    "from src.envs.rocker_bogie_with_terrain_simplified import RockerBogieDynamics as Dynamics\n",
    "from src.envs.rocker_bogie_with_terrain_simplified import state_space, action_space\n",
    "\n",
    "# import dataloading tools\n",
    "from src.models.dataset import TorchDatasetWrapper, DynamicsRandomDataset\n",
    "from torch.utils.data import DataLoader\n",
    "\n",
    "# import modeling tools\n",
    "from src.models import Alpaca, AlpacaDynamics"
   ]
  },
  {
   "cell_type": "markdown",
   "metadata": {},
   "source": [
    "### Define where to save the model"
   ]
  },
  {
   "cell_type": "code",
   "execution_count": 3,
   "metadata": {},
   "outputs": [],
   "source": [
    "MODEL_PATH = \"trained_models/rocker_bogie_alp_alone\""
   ]
  },
  {
   "cell_type": "markdown",
   "metadata": {},
   "source": [
    "Initialize dynamics to train on"
   ]
  },
  {
   "cell_type": "code",
   "execution_count": 4,
   "metadata": {
    "tags": []
   },
   "outputs": [
    {
     "output_type": "stream",
     "name": "stdout",
     "text": "c rand\nphi rand\n"
    }
   ],
   "source": [
    "dynamics = Dynamics()"
   ]
  },
  {
   "cell_type": "code",
   "execution_count": 5,
   "metadata": {},
   "outputs": [],
   "source": [
    "config = {\n",
    "    'x_dim': dynamics.ob_dim,\n",
    "    'u_dim': action_space.dimension,\n",
    "    'learning_rate': 5e-5,\n",
    "    'sigma_eps': [1e-2]*dynamics.ob_dim,\n",
    "    'data_horizon': 40,\n",
    "    'max_context': 10,\n",
    "    'multistep_training': False,\n",
    "    'learning_rate_decay': False,\n",
    "    'phi_dim': 64,\n",
    "    'learnable_noise':True,\n",
    "}\n",
    "\n",
    "model = Alpaca(config)\n",
    "dynmodel = AlpacaDynamics(model)"
   ]
  },
  {
   "cell_type": "code",
   "execution_count": 6,
   "metadata": {},
   "outputs": [],
   "source": [
    "dataset = TorchDatasetWrapper(DynamicsRandomDataset(dynamics, state_space, action_space))\n",
    "dataloader = DataLoader(dataset, batch_size=20)"
   ]
  },
  {
   "cell_type": "markdown",
   "metadata": {},
   "source": [
    "Training progress is logged in the directory `runs` for visualization in Tensorboard"
   ]
  },
  {
   "cell_type": "code",
   "execution_count": 7,
   "metadata": {
    "scrolled": true,
    "tags": []
   },
   "outputs": [
    {
     "output_type": "stream",
     "name": "stderr",
     "text": " 33%|███▎      | 1/3 [00:00<00:01,  1.33it/s, tr_loss=35.6763]\nOther loss =  35.6763  Ortho loss weighted= 0.0 Bounds loss weighted= 0.0\n 67%|██████▋   | 2/3 [00:01<00:00,  1.34it/s, tr_loss=30.733265]\nOther loss =  30.733265  Ortho loss weighted= 0.0 Bounds loss weighted= 0.0\n100%|██████████| 3/3 [00:02<00:00,  1.39it/s, tr_loss=26.658516]\nOther loss =  26.658516  Ortho loss weighted= 0.0 Bounds loss weighted= 0.0\n\n"
    }
   ],
   "source": [
    "dynmodel.train(dataloader, 3, val_dataloader=None, verbose=True)\n",
    "# dynmodel.train(dataloader, 3000, val_dataloader=None, verbose=True)"
   ]
  },
  {
   "cell_type": "code",
   "execution_count": 8,
   "metadata": {},
   "outputs": [],
   "source": [
    "dynmodel.save(MODEL_PATH)"
   ]
  },
  {
   "cell_type": "code",
   "execution_count": null,
   "metadata": {},
   "outputs": [],
   "source": []
  }
 ],
 "metadata": {
  "kernelspec": {
   "display_name": "Python 3.7.4 64-bit ('base': conda)",
   "language": "python",
   "name": "python37464bitbasecondaf44f5e84af3449ff9326d2c10989fe31"
  },
  "language_info": {
   "codemirror_mode": {
    "name": "ipython",
    "version": 3
   },
   "file_extension": ".py",
   "mimetype": "text/x-python",
   "name": "python",
   "nbconvert_exporter": "python",
   "pygments_lexer": "ipython3",
   "version": "3.7.4-final"
  }
 },
 "nbformat": 4,
 "nbformat_minor": 4
}